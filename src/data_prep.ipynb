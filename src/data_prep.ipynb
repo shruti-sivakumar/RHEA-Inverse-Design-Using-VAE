{
 "cells": [
  {
   "cell_type": "code",
   "execution_count": 1,
   "id": "3cfd56a8",
   "metadata": {},
   "outputs": [],
   "source": [
    "import pandas as pd\n",
    "import numpy as np\n",
    "from sklearn.model_selection import train_test_split\n",
    "from sklearn.preprocessing import StandardScaler, MinMaxScaler\n",
    "import joblib"
   ]
  },
  {
   "cell_type": "code",
   "execution_count": 2,
   "id": "c5d20e96",
   "metadata": {},
   "outputs": [],
   "source": [
    "# Paths\n",
    "CSV_PATH = \"../data/encoded_data.csv\"  # model-ready numeric CSV (fractions, numeric props, encoded cats)\n",
    "\n",
    "# Load\n",
    "df = pd.read_csv(CSV_PATH)"
   ]
  },
  {
   "cell_type": "code",
   "execution_count": 3,
   "id": "831929a7",
   "metadata": {},
   "outputs": [],
   "source": [
    "# Target column\n",
    "target_col = \"Yield_Strength\""
   ]
  },
  {
   "cell_type": "code",
   "execution_count": 4,
   "id": "e502e9b0",
   "metadata": {},
   "outputs": [],
   "source": [
    "# Drop ONLY the target column from features\n",
    "feature_cols = [\n",
    "    c for c in df.columns \n",
    "    if c != target_col and not c.endswith('_pct')\n",
    "]"
   ]
  },
  {
   "cell_type": "code",
   "execution_count": 5,
   "id": "3b187961",
   "metadata": {},
   "outputs": [],
   "source": [
    "# Build X and y\n",
    "X = df[feature_cols].copy()\n",
    "y = df[target_col].copy()"
   ]
  },
  {
   "cell_type": "code",
   "execution_count": 6,
   "id": "6a570854",
   "metadata": {},
   "outputs": [],
   "source": [
    "# Handle missing values\n",
    "X = X.fillna(X.median(numeric_only=True))\n",
    "y = y.fillna(y.median())"
   ]
  },
  {
   "cell_type": "code",
   "execution_count": 7,
   "id": "a4b7e170",
   "metadata": {},
   "outputs": [],
   "source": [
    "# Train/val split\n",
    "X_train, X_val, y_train, y_val = train_test_split(\n",
    "    X.values, y.values.reshape(-1,1), test_size=0.2, random_state=42\n",
    ")"
   ]
  },
  {
   "cell_type": "code",
   "execution_count": 8,
   "id": "f06fbf41",
   "metadata": {},
   "outputs": [],
   "source": [
    "# Scale features and target\n",
    "x_scaler = StandardScaler()\n",
    "y_scaler = MinMaxScaler()\n",
    "\n",
    "X_train_s = x_scaler.fit_transform(X_train)\n",
    "X_val_s   = x_scaler.transform(X_val)\n",
    "y_train_s = y_scaler.fit_transform(y_train)\n",
    "y_val_s   = y_scaler.transform(y_val)"
   ]
  },
  {
   "cell_type": "code",
   "execution_count": 9,
   "id": "0ce58895",
   "metadata": {},
   "outputs": [
    {
     "name": "stdout",
     "output_type": "stream",
     "text": [
      "X shape: (97, 21), y shape: (97, 1)\n",
      "Features used: ['Al_frac', 'Co_frac', 'Cr_frac', 'Hf_frac', 'Mo_frac', 'Nb_frac', 'Si_frac', 'Ta_frac', 'Ti_frac', 'V_frac', 'W_frac', 'Zr_frac', 'Density', 'Young_Modulus_ROM', 'Young_Modulus_Exp', 'Testing_Temp', 'Specific_Strength', 'Equilibrium_Conditions_encoded', 'Single_Multiphase_encoded', 'Type_Present_Phases_encoded', 'Tension_Compression_encoded']\n"
     ]
    }
   ],
   "source": [
    "# Save scalers & metadata\n",
    "joblib.dump({\n",
    "    \"x_scaler\": x_scaler,\n",
    "    \"y_scaler\": y_scaler,\n",
    "    \"feature_cols\": feature_cols\n",
    "}, \"scalers.joblib\")\n",
    "\n",
    "# Save scaled splits\n",
    "np.savez(\"data_splits.npz\",\n",
    "         X_train=X_train_s, X_val=X_val_s,\n",
    "         y_train=y_train_s, y_val=y_val_s)\n",
    "\n",
    "print(f\"X shape: {X_train_s.shape}, y shape: {y_train_s.shape}\")\n",
    "print(f\"Features used: {feature_cols}\")"
   ]
  }
 ],
 "metadata": {
  "kernelspec": {
   "display_name": "Python 3",
   "language": "python",
   "name": "python3"
  },
  "language_info": {
   "codemirror_mode": {
    "name": "ipython",
    "version": 3
   },
   "file_extension": ".py",
   "mimetype": "text/x-python",
   "name": "python",
   "nbconvert_exporter": "python",
   "pygments_lexer": "ipython3",
   "version": "3.13.3"
  }
 },
 "nbformat": 4,
 "nbformat_minor": 5
}
