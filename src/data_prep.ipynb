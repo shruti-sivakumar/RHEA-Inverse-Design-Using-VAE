{
 "cells": [
  {
   "cell_type": "code",
   "execution_count": 1,
   "id": "3cfd56a8",
   "metadata": {},
   "outputs": [],
   "source": [
    "# Import libraries\n",
    "import pandas as pd\n",
    "import numpy as np\n",
    "from sklearn.model_selection import train_test_split\n",
    "from sklearn.preprocessing import StandardScaler, MinMaxScaler\n",
    "import joblib"
   ]
  },
  {
   "cell_type": "code",
   "execution_count": 2,
   "id": "c5d20e96",
   "metadata": {},
   "outputs": [],
   "source": [
    "# Paths\n",
    "CSV_PATH = \"../data/encoded_data.csv\"\n",
    "OUT_SCALERS = \"scalers.joblib\"\n",
    "OUT_SPLITS = \"data_splits.npz\""
   ]
  },
  {
   "cell_type": "code",
   "execution_count": 3,
   "id": "831929a7",
   "metadata": {},
   "outputs": [],
   "source": [
    "# Load dataset\n",
    "df = pd.read_csv(CSV_PATH)"
   ]
  },
  {
   "cell_type": "code",
   "execution_count": 4,
   "id": "200b95de",
   "metadata": {},
   "outputs": [],
   "source": [
    "# Define conditioning and property targets\n",
    "cond_cols = [\"Testing_Temp\"]         # conditioning variable(s)\n",
    "prop_col = \"Yield_Strength\"          # supervised target"
   ]
  },
  {
   "cell_type": "code",
   "execution_count": 5,
   "id": "8ad29548",
   "metadata": {},
   "outputs": [],
   "source": [
    "# Feature columns (everything except targets + percentages)\n",
    "feature_cols = [\n",
    "    c for c in df.columns \n",
    "    if c not in cond_cols + [prop_col] and not c.endswith(\"_pct\")\n",
    "]"
   ]
  },
  {
   "cell_type": "code",
   "execution_count": 6,
   "id": "847b1d14",
   "metadata": {},
   "outputs": [],
   "source": [
    "# Build X, y_cond, y_prop\n",
    "X = df[feature_cols].copy()\n",
    "y_cond = df[cond_cols].copy()\n",
    "y_prop = df[[prop_col]].copy()"
   ]
  },
  {
   "cell_type": "code",
   "execution_count": 7,
   "id": "9a23d255",
   "metadata": {},
   "outputs": [],
   "source": [
    "# Handle missing values\n",
    "X = X.fillna(X.median(numeric_only=True))\n",
    "y_cond = y_cond.fillna(y_cond.median(numeric_only=True))\n",
    "y_prop = y_prop.fillna(y_prop.median(numeric_only=True))"
   ]
  },
  {
   "cell_type": "code",
   "execution_count": 8,
   "id": "2afebbc4",
   "metadata": {},
   "outputs": [],
   "source": [
    "# Train/val split\n",
    "X_train, X_val, y_cond_train, y_cond_val, y_prop_train, y_prop_val = train_test_split(\n",
    "    X.values, y_cond.values, y_prop.values,\n",
    "    test_size=0.2, random_state=42\n",
    ")"
   ]
  },
  {
   "cell_type": "code",
   "execution_count": 9,
   "id": "0f10a22b",
   "metadata": {},
   "outputs": [],
   "source": [
    "# Scale features\n",
    "x_scaler = StandardScaler()\n",
    "y_cond_scaler = StandardScaler()   # keep conditioning in scaled units\n",
    "y_prop_scaler = MinMaxScaler()     # keep target in [0,1]\n",
    "\n",
    "X_train_s = x_scaler.fit_transform(X_train)\n",
    "X_val_s   = x_scaler.transform(X_val)\n",
    "\n",
    "y_cond_train_s = y_cond_scaler.fit_transform(y_cond_train)\n",
    "y_cond_val_s   = y_cond_scaler.transform(y_cond_val)\n",
    "\n",
    "y_prop_train_s = y_prop_scaler.fit_transform(y_prop_train)\n",
    "y_prop_val_s   = y_prop_scaler.transform(y_prop_val)"
   ]
  },
  {
   "cell_type": "code",
   "execution_count": 10,
   "id": "9d648a80",
   "metadata": {},
   "outputs": [
    {
     "name": "stdout",
     "output_type": "stream",
     "text": [
      "Saved splits → data_splits.npz\n",
      "Feature dims: X=20, y_cond=1, y_prop=1\n"
     ]
    }
   ],
   "source": [
    "# Save scalers and splits\n",
    "joblib.dump({\n",
    "    \"x_scaler\": x_scaler,\n",
    "    \"y_cond_scaler\": y_cond_scaler,\n",
    "    \"y_prop_scaler\": y_prop_scaler,\n",
    "    \"feature_cols\": feature_cols,\n",
    "    \"cond_cols\": cond_cols,\n",
    "    \"prop_col\": prop_col,\n",
    "}, OUT_SCALERS)\n",
    "\n",
    "np.savez(OUT_SPLITS,\n",
    "         X_train=X_train_s, X_val=X_val_s,\n",
    "         y_cond_train=y_cond_train_s, y_cond_val=y_cond_val_s,\n",
    "         y_prop_train=y_prop_train_s, y_prop_val=y_prop_val_s)\n",
    "\n",
    "print(f\"Saved splits → {OUT_SPLITS}\")\n",
    "print(f\"Feature dims: X={X_train_s.shape[1]}, y_cond={y_cond_train_s.shape[1]}, y_prop={y_prop_train_s.shape[1]}\")\n"
   ]
  }
 ],
 "metadata": {
  "kernelspec": {
   "display_name": "base",
   "language": "python",
   "name": "python3"
  },
  "language_info": {
   "codemirror_mode": {
    "name": "ipython",
    "version": 3
   },
   "file_extension": ".py",
   "mimetype": "text/x-python",
   "name": "python",
   "nbconvert_exporter": "python",
   "pygments_lexer": "ipython3",
   "version": "3.13.7"
  }
 },
 "nbformat": 4,
 "nbformat_minor": 5
}
