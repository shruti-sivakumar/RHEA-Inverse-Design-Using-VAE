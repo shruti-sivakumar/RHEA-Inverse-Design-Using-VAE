{
 "cells": [
  {
   "cell_type": "code",
   "execution_count": 1,
   "id": "743885d0",
   "metadata": {},
   "outputs": [],
   "source": [
    "import pandas as pd\n",
    "import numpy as np\n",
    "import torch\n",
    "import joblib\n",
    "from sklearn.ensemble import ExtraTreesRegressor\n",
    "import matplotlib.pyplot as plt\n",
    "from pathlib import Path\n",
    "\n",
    "from cvae import CVAE\n",
    "from generate import suggest"
   ]
  },
  {
   "cell_type": "code",
   "execution_count": 2,
   "id": "615ff34b",
   "metadata": {},
   "outputs": [],
   "source": [
    "TARGET_YIELD = 1200.0   # MPa\n",
    "N_SAMPLES = 50\n",
    "DEVICE = torch.device(\"cpu\")"
   ]
  },
  {
   "cell_type": "code",
   "execution_count": 3,
   "id": "b358f0f4",
   "metadata": {},
   "outputs": [],
   "source": [
    "scalers = joblib.load(\"/Users/shrutisivakumar/Library/CloudStorage/OneDrive-Personal/College Stuff/Sem 5/Projects/DDMM/RHEA-Inverse-Design-Using-VAE/data/processed/scalers.joblib\")\n",
    "x_scaler = scalers[\"x_scaler\"]\n",
    "y_scaler = scalers[\"y_scaler\"]\n",
    "feature_cols = scalers[\"feature_cols\"]"
   ]
  },
  {
   "cell_type": "code",
   "execution_count": 4,
   "id": "3f19b47a",
   "metadata": {},
   "outputs": [
    {
     "data": {
      "text/plain": [
       "CVAE(\n",
       "  (enc): Encoder(\n",
       "    (net_mu): MLP(\n",
       "      (net): Sequential(\n",
       "        (0): Linear(in_features=10, out_features=128, bias=True)\n",
       "        (1): GELU(approximate='none')\n",
       "        (2): LayerNorm((128,), eps=1e-05, elementwise_affine=True)\n",
       "        (3): Linear(in_features=128, out_features=128, bias=True)\n",
       "        (4): GELU(approximate='none')\n",
       "        (5): Linear(in_features=128, out_features=4, bias=True)\n",
       "      )\n",
       "    )\n",
       "    (net_logvar): MLP(\n",
       "      (net): Sequential(\n",
       "        (0): Linear(in_features=10, out_features=128, bias=True)\n",
       "        (1): GELU(approximate='none')\n",
       "        (2): LayerNorm((128,), eps=1e-05, elementwise_affine=True)\n",
       "        (3): Linear(in_features=128, out_features=128, bias=True)\n",
       "        (4): GELU(approximate='none')\n",
       "        (5): Linear(in_features=128, out_features=4, bias=True)\n",
       "      )\n",
       "    )\n",
       "  )\n",
       "  (dec): DecoderStrongCond(\n",
       "    (fc1): Linear(in_features=5, out_features=128, bias=True)\n",
       "    (fc2): Linear(in_features=129, out_features=128, bias=True)\n",
       "    (fc3): Linear(in_features=129, out_features=9, bias=True)\n",
       "    (act): GELU(approximate='none')\n",
       "  )\n",
       "  (prior): ConditionalPrior(\n",
       "    (to_mu): MLP(\n",
       "      (net): Sequential(\n",
       "        (0): Linear(in_features=1, out_features=64, bias=True)\n",
       "        (1): GELU(approximate='none')\n",
       "        (2): Linear(in_features=64, out_features=64, bias=True)\n",
       "        (3): GELU(approximate='none')\n",
       "        (4): Linear(in_features=64, out_features=4, bias=True)\n",
       "      )\n",
       "    )\n",
       "    (to_logvar): MLP(\n",
       "      (net): Sequential(\n",
       "        (0): Linear(in_features=1, out_features=64, bias=True)\n",
       "        (1): GELU(approximate='none')\n",
       "        (2): Linear(in_features=64, out_features=64, bias=True)\n",
       "        (3): GELU(approximate='none')\n",
       "        (4): Linear(in_features=64, out_features=4, bias=True)\n",
       "      )\n",
       "    )\n",
       "  )\n",
       "  (prop_head): PropertyHead(\n",
       "    (net): Sequential(\n",
       "      (0): Linear(in_features=4, out_features=64, bias=True)\n",
       "      (1): GELU(approximate='none')\n",
       "      (2): Linear(in_features=64, out_features=64, bias=True)\n",
       "      (3): GELU(approximate='none')\n",
       "      (4): Linear(in_features=64, out_features=1, bias=True)\n",
       "    )\n",
       "  )\n",
       ")"
      ]
     },
     "execution_count": 4,
     "metadata": {},
     "output_type": "execute_result"
    }
   ],
   "source": [
    "x_dim = len(feature_cols)\n",
    "y_dim = 1\n",
    "model = CVAE(x_dim=x_dim, y_dim=y_dim, z_dim=4, hidden=128).to(DEVICE)\n",
    "model.load_state_dict(torch.load(\"/Users/shrutisivakumar/Library/CloudStorage/OneDrive-Personal/College Stuff/Sem 5/Projects/DDMM/RHEA-Inverse-Design-Using-VAE/models/cvae_best.pt\", map_location=DEVICE))\n",
    "model.eval()"
   ]
  },
  {
   "cell_type": "code",
   "execution_count": 5,
   "id": "f0065213",
   "metadata": {},
   "outputs": [
    {
     "name": "stdout",
     "output_type": "stream",
     "text": [
      "[INFO] Generated 50 candidates for target 1200.0 MPa\n"
     ]
    }
   ],
   "source": [
    "df_gen = suggest(\n",
    "    model, x_scaler, y_scaler, feature_cols,\n",
    "    y_target_scalar=TARGET_YIELD, N=N_SAMPLES, refine=True\n",
    ")\n",
    "\n",
    "# Save raw suggestions\n",
    "out_dir = Path(\"../outputs\")\n",
    "out_dir.mkdir(exist_ok=True)\n",
    "df_gen.to_csv(out_dir / f\"suggestions_y{int(TARGET_YIELD)}_raw.csv\", index=False)\n",
    "print(f\"[INFO] Generated {len(df_gen)} candidates for target {TARGET_YIELD} MPa\")"
   ]
  },
  {
   "cell_type": "code",
   "execution_count": 6,
   "id": "3826c0bc",
   "metadata": {},
   "outputs": [],
   "source": [
    "cat_cols = [\n",
    "    \"Equilibrium_Conditions_encoded\",\n",
    "    \"Single_Multiphase_encoded\",\n",
    "    \"Type_Present_Phases_encoded\",\n",
    "    \"Tension_Compression_encoded\"\n",
    "]\n",
    "df_gen[cat_cols] = df_gen[cat_cols].round().astype(int)"
   ]
  },
  {
   "cell_type": "code",
   "execution_count": 7,
   "id": "64773187",
   "metadata": {},
   "outputs": [],
   "source": [
    "df_train = pd.read_csv(\"../data/encoded_data.csv\")\n",
    "X_train = df_train[feature_cols].fillna(df_train[feature_cols].median(numeric_only=True))\n",
    "y_train = df_train[\"Yield_Strength\"].fillna(df_train[\"Yield_Strength\"].median())"
   ]
  },
  {
   "cell_type": "code",
   "execution_count": 8,
   "id": "49dc52e2",
   "metadata": {},
   "outputs": [
    {
     "name": "stdout",
     "output_type": "stream",
     "text": [
      "[INFO] Ranked suggestions saved to ../outputs/suggestions_y1200_ranked.csv\n"
     ]
    }
   ],
   "source": [
    "surrogate = ExtraTreesRegressor(n_estimators=500, random_state=42)\n",
    "surrogate.fit(X_train, y_train)\n",
    "\n",
    "# Predict yield strength for generated candidates\n",
    "df_gen[\"Predicted_Yield_Strength\"] = surrogate.predict(df_gen)\n",
    "\n",
    "# Rank by predicted yield strength\n",
    "df_ranked = df_gen.sort_values(by=\"Predicted_Yield_Strength\", ascending=False)\n",
    "df_ranked.to_csv(out_dir / f\"suggestions_y{int(TARGET_YIELD)}_ranked.csv\", index=False)\n",
    "print(f\"[INFO] Ranked suggestions saved to {out_dir}/suggestions_y{int(TARGET_YIELD)}_ranked.csv\")"
   ]
  },
  {
   "cell_type": "code",
   "execution_count": 9,
   "id": "5ebc86c6",
   "metadata": {},
   "outputs": [
    {
     "data": {
      "image/png": "[encoded data removed]",
      "text/plain": [
       "<Figure size 800x600 with 1 Axes>"
      ]
     },
     "metadata": {},
     "output_type": "display_data"
    }
   ],
   "source": [
    "plt.figure(figsize=(8,6))\n",
    "plt.scatter(range(len(df_ranked)), df_ranked[\"Predicted_Yield_Strength\"], c='blue', label='Generated Candidates')\n",
    "plt.axhline(y=TARGET_YIELD, color='r', linestyle='--', label='Target Yield Strength')\n",
    "plt.xlabel(\"Candidate Index (sorted by predicted strength)\")\n",
    "plt.ylabel(\"Predicted Yield Strength (MPa)\")\n",
    "plt.title(f\"CVAE-Generated Candidates for Target {TARGET_YIELD} MPa\")\n",
    "plt.legend()\n",
    "plt.tight_layout()\n",
    "plt.savefig(out_dir / f\"yield_strength_plot_y{int(TARGET_YIELD)}.png\", dpi=300)\n",
    "plt.show()"
   ]
  },
  {
   "cell_type": "code",
   "execution_count": 11,
   "id": "75a6876e",
   "metadata": {},
   "outputs": [
    {
     "name": "stdout",
     "output_type": "stream",
     "text": [
      "count      50.000000\n",
      "mean     1201.730656\n",
      "std         4.838395\n",
      "min      1189.710400\n",
      "25%      1199.162800\n",
      "50%      1201.860200\n",
      "75%      1205.076900\n",
      "max      1213.261200\n",
      "Name: Predicted_Yield_Strength, dtype: float64\n"
     ]
    }
   ],
   "source": [
    "print(df_ranked[\"Predicted_Yield_Strength\"].describe())"
   ]
  }
 ],
 "metadata": {
  "kernelspec": {
   "display_name": "Python 3",
   "language": "python",
   "name": "python3"
  },
  "language_info": {
   "codemirror_mode": {
    "name": "ipython",
    "version": 3
   },
   "file_extension": ".py",
   "mimetype": "text/x-python",
   "name": "python",
   "nbconvert_exporter": "python",
   "pygments_lexer": "ipython3",
   "version": "3.13.3"
  }
 },
 "nbformat": 4,
 "nbformat_minor": 5
}
